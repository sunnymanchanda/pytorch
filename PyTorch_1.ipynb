{
  "nbformat": 4,
  "nbformat_minor": 0,
  "metadata": {
    "colab": {
      "name": "PyTorch_1.ipynb",
      "provenance": [],
      "authorship_tag": "ABX9TyNSX+nAikjSqcPRG7jDgz1D",
      "include_colab_link": true
    },
    "kernelspec": {
      "name": "python3",
      "display_name": "Python 3"
    }
  },
  "cells": [
    {
      "cell_type": "markdown",
      "metadata": {
        "id": "view-in-github",
        "colab_type": "text"
      },
      "source": [
        "<a href=\"https://colab.research.google.com/github/sunnymanchanda/pytorch/blob/master/PyTorch_1.ipynb\" target=\"_parent\"><img src=\"https://colab.research.google.com/assets/colab-badge.svg\" alt=\"Open In Colab\"/></a>"
      ]
    },
    {
      "cell_type": "code",
      "metadata": {
        "id": "2K_hHmSOAhEG",
        "colab_type": "code",
        "colab": {}
      },
      "source": [
        "### Creating Tensors"
      ],
      "execution_count": 0,
      "outputs": []
    },
    {
      "cell_type": "code",
      "metadata": {
        "id": "r7T36mLBAn-U",
        "colab_type": "code",
        "colab": {}
      },
      "source": [
        "import torch\n",
        "import numpy as np"
      ],
      "execution_count": 0,
      "outputs": []
    },
    {
      "cell_type": "code",
      "metadata": {
        "id": "gl6SICnGAt8k",
        "colab_type": "code",
        "colab": {}
      },
      "source": [
        "t1 = torch.tensor(4.)"
      ],
      "execution_count": 0,
      "outputs": []
    },
    {
      "cell_type": "code",
      "metadata": {
        "id": "Aic7AQIsA2Vg",
        "colab_type": "code",
        "colab": {
          "base_uri": "https://localhost:8080/",
          "height": 34
        },
        "outputId": "37f1496a-9b89-45c4-ade0-0589e19a7277"
      },
      "source": [
        "t1.dtype"
      ],
      "execution_count": 4,
      "outputs": [
        {
          "output_type": "execute_result",
          "data": {
            "text/plain": [
              "torch.float32"
            ]
          },
          "metadata": {
            "tags": []
          },
          "execution_count": 4
        }
      ]
    },
    {
      "cell_type": "code",
      "metadata": {
        "id": "1nFqGkJ3A8Qj",
        "colab_type": "code",
        "colab": {
          "base_uri": "https://localhost:8080/",
          "height": 50
        },
        "outputId": "11fe6a43-8ffd-4eb8-d55f-a27e006fda82"
      },
      "source": [
        "t2 = torch.tensor( [4., 5, 6] )\n",
        "print(t2.dtype)\n",
        "print(t2.shape)"
      ],
      "execution_count": 5,
      "outputs": [
        {
          "output_type": "stream",
          "text": [
            "torch.float32\n",
            "torch.Size([3])\n"
          ],
          "name": "stdout"
        }
      ]
    },
    {
      "cell_type": "code",
      "metadata": {
        "id": "-ul6czuzBHrq",
        "colab_type": "code",
        "colab": {
          "base_uri": "https://localhost:8080/",
          "height": 118
        },
        "outputId": "8a12416a-c7ad-4990-9868-75a05847cd9d"
      },
      "source": [
        "t3 = torch.tensor( [ [4., 5, 6], [7, 8, 9], [10, 11, 12], [13, 14, 15] ] )\n",
        "print(t3.dtype)\n",
        "print(t3.shape)\n",
        "print(t3)"
      ],
      "execution_count": 6,
      "outputs": [
        {
          "output_type": "stream",
          "text": [
            "torch.float32\n",
            "torch.Size([4, 3])\n",
            "tensor([[ 4.,  5.,  6.],\n",
            "        [ 7.,  8.,  9.],\n",
            "        [10., 11., 12.],\n",
            "        [13., 14., 15.]])\n"
          ],
          "name": "stdout"
        }
      ]
    },
    {
      "cell_type": "code",
      "metadata": {
        "id": "XKiEEIxYBiww",
        "colab_type": "code",
        "colab": {
          "base_uri": "https://localhost:8080/",
          "height": 202
        },
        "outputId": "5569a627-4215-4c8b-ab1a-e6b83a722387"
      },
      "source": [
        "t4 = torch.tensor( [ [ [1., 2, 3], [4, 5, 6], [7, 8, 9], [10, 11, 12] ], [ [1., 2, 3], [4, 5, 6], [7, 8, 9], [10, 11, 12] ]  ] )\n",
        "print(t4)\n",
        "print(t4.dtype)\n",
        "print(t4.shape)"
      ],
      "execution_count": 7,
      "outputs": [
        {
          "output_type": "stream",
          "text": [
            "tensor([[[ 1.,  2.,  3.],\n",
            "         [ 4.,  5.,  6.],\n",
            "         [ 7.,  8.,  9.],\n",
            "         [10., 11., 12.]],\n",
            "\n",
            "        [[ 1.,  2.,  3.],\n",
            "         [ 4.,  5.,  6.],\n",
            "         [ 7.,  8.,  9.],\n",
            "         [10., 11., 12.]]])\n",
            "torch.float32\n",
            "torch.Size([2, 4, 3])\n"
          ],
          "name": "stdout"
        }
      ]
    },
    {
      "cell_type": "code",
      "metadata": {
        "id": "69_Qly0bBjYB",
        "colab_type": "code",
        "colab": {}
      },
      "source": [
        "x = torch.tensor(3.)\n",
        "w = torch.tensor(4., requires_grad = True)\n",
        "b = torch.tensor(5., requires_grad = True)\n"
      ],
      "execution_count": 0,
      "outputs": []
    },
    {
      "cell_type": "code",
      "metadata": {
        "id": "PvqjOPhgBjs1",
        "colab_type": "code",
        "colab": {
          "base_uri": "https://localhost:8080/",
          "height": 34
        },
        "outputId": "1fadfa6b-e626-4a3f-d347-226535f733ce"
      },
      "source": [
        "y = w*x + b\n",
        "print(y)"
      ],
      "execution_count": 9,
      "outputs": [
        {
          "output_type": "stream",
          "text": [
            "tensor(17., grad_fn=<AddBackward0>)\n"
          ],
          "name": "stdout"
        }
      ]
    },
    {
      "cell_type": "code",
      "metadata": {
        "id": "M1YoRezIBj6v",
        "colab_type": "code",
        "colab": {
          "base_uri": "https://localhost:8080/",
          "height": 118
        },
        "outputId": "b2227ae2-24e4-4cea-cd93-95ab027f3a4b"
      },
      "source": [
        "print('dy/dx', x.grad)\n",
        "print('dy/dw', w.grad)\n",
        "print('dy/db', b.grad)\n",
        "y.backward()\n",
        "print('dy/dx', x.grad)\n",
        "print('dy/dw', w.grad)\n",
        "print('dy/db', b.grad)\n"
      ],
      "execution_count": 10,
      "outputs": [
        {
          "output_type": "stream",
          "text": [
            "dy/dx None\n",
            "dy/dw None\n",
            "dy/db None\n",
            "dy/dx None\n",
            "dy/dw tensor(3.)\n",
            "dy/db tensor(1.)\n"
          ],
          "name": "stdout"
        }
      ]
    },
    {
      "cell_type": "code",
      "metadata": {
        "id": "2gQd9uzVBkRd",
        "colab_type": "code",
        "colab": {
          "base_uri": "https://localhost:8080/",
          "height": 84
        },
        "outputId": "97fa6f2e-34d5-444b-a032-4572a793af8b"
      },
      "source": [
        "z = np.array([ [1., 2, 3], [4, 5,6] ])\n",
        "print(z)\n",
        "print(z.dtype)\n",
        "print(z.shape)"
      ],
      "execution_count": 11,
      "outputs": [
        {
          "output_type": "stream",
          "text": [
            "[[1. 2. 3.]\n",
            " [4. 5. 6.]]\n",
            "float64\n",
            "(2, 3)\n"
          ],
          "name": "stdout"
        }
      ]
    },
    {
      "cell_type": "code",
      "metadata": {
        "id": "SM7RwRmkBkcm",
        "colab_type": "code",
        "colab": {
          "base_uri": "https://localhost:8080/",
          "height": 84
        },
        "outputId": "ba47b84e-d686-4c6b-c575-67932e4d552f"
      },
      "source": [
        "p = torch.from_numpy(z)\n",
        "print(p)\n",
        "print(p.dtype)\n",
        "print(p.shape)"
      ],
      "execution_count": 12,
      "outputs": [
        {
          "output_type": "stream",
          "text": [
            "tensor([[1., 2., 3.],\n",
            "        [4., 5., 6.]], dtype=torch.float64)\n",
            "torch.float64\n",
            "torch.Size([2, 3])\n"
          ],
          "name": "stdout"
        }
      ]
    },
    {
      "cell_type": "code",
      "metadata": {
        "id": "1GsvHmW4BklM",
        "colab_type": "code",
        "colab": {
          "base_uri": "https://localhost:8080/",
          "height": 50
        },
        "outputId": "4b23ab1f-54a5-491a-f4c4-9aa8dc71ece4"
      },
      "source": [
        "r = p.numpy()\n",
        "print(r, r.dtype, r.shape)"
      ],
      "execution_count": 13,
      "outputs": [
        {
          "output_type": "stream",
          "text": [
            "[[1. 2. 3.]\n",
            " [4. 5. 6.]] float64 (2, 3)\n"
          ],
          "name": "stdout"
        }
      ]
    },
    {
      "cell_type": "markdown",
      "metadata": {
        "id": "ahuUNuv8QP2F",
        "colab_type": "text"
      },
      "source": [
        "Part 2: Linear Regression with PyTorch"
      ]
    },
    {
      "cell_type": "markdown",
      "metadata": {
        "id": "XVaeiCcahybl",
        "colab_type": "text"
      },
      "source": [
        "# Inputs temp, humidity, rainwall\n",
        "# Output Yield of Apples and Oranges"
      ]
    },
    {
      "cell_type": "code",
      "metadata": {
        "id": "mhrdZeH8h8ix",
        "colab_type": "code",
        "colab": {}
      },
      "source": [
        "input_lr = np.array( [ [73, 67, 43], [91, 88, 64], [87, 134, 58], [102, 43, 37], [69, 96, 70] ], dtype = 'float32')"
      ],
      "execution_count": 0,
      "outputs": []
    },
    {
      "cell_type": "code",
      "metadata": {
        "id": "Mr-_RWEAh-vn",
        "colab_type": "code",
        "colab": {
          "base_uri": "https://localhost:8080/",
          "height": 101
        },
        "outputId": "74ffdde2-7f9d-4e62-c097-2a46d58429c8"
      },
      "source": [
        "output_lr = np.array( [ [56, 70], [81, 101], [119, 133], [22, 37], [103, 119] ], dtype = 'float32')\n",
        "print(output_lr)"
      ],
      "execution_count": 29,
      "outputs": [
        {
          "output_type": "stream",
          "text": [
            "[[ 56.  70.]\n",
            " [ 81. 101.]\n",
            " [119. 133.]\n",
            " [ 22.  37.]\n",
            " [103. 119.]]\n"
          ],
          "name": "stdout"
        }
      ]
    },
    {
      "cell_type": "code",
      "metadata": {
        "id": "IwBfV-4Ci3lq",
        "colab_type": "code",
        "colab": {
          "base_uri": "https://localhost:8080/",
          "height": 118
        },
        "outputId": "e1db3fdb-a1d2-4f58-ffbf-e5c5a145ba4c"
      },
      "source": [
        "inp = torch.from_numpy(input_lr)\n",
        "out = torch.from_numpy(output_lr)\n",
        "\n",
        "print(inp)\n",
        "print(type(inp), type(out))"
      ],
      "execution_count": 16,
      "outputs": [
        {
          "output_type": "stream",
          "text": [
            "tensor([[ 73.,  67.,  43.],\n",
            "        [ 91.,  88.,  64.],\n",
            "        [ 87., 134.,  58.],\n",
            "        [102.,  43.,  37.],\n",
            "        [ 69.,  96.,  70.]])\n",
            "<class 'torch.Tensor'> <class 'torch.Tensor'>\n"
          ],
          "name": "stdout"
        }
      ]
    },
    {
      "cell_type": "code",
      "metadata": {
        "id": "nCTQBUlmkHKq",
        "colab_type": "code",
        "colab": {}
      },
      "source": [
        "w = torch.randn(2, 3, requires_grad = True)\n",
        "b = torch.randn(2, requires_grad = True)\n"
      ],
      "execution_count": 0,
      "outputs": []
    },
    {
      "cell_type": "code",
      "metadata": {
        "id": "aIwrNdll70Nk",
        "colab_type": "code",
        "colab": {
          "base_uri": "https://localhost:8080/",
          "height": 67
        },
        "outputId": "84e0c8f9-32a3-4073-ed23-e9819992e545"
      },
      "source": [
        "w.dtype\n",
        "b.dtype\n",
        "print(w)\n",
        "print(b)"
      ],
      "execution_count": 18,
      "outputs": [
        {
          "output_type": "stream",
          "text": [
            "tensor([[ 1.3587,  1.9220, -0.4726],\n",
            "        [ 0.0435, -1.2725, -0.7877]], requires_grad=True)\n",
            "tensor([0.3953, 0.3128], requires_grad=True)\n"
          ],
          "name": "stdout"
        }
      ]
    },
    {
      "cell_type": "code",
      "metadata": {
        "id": "hZdZnYoolVrS",
        "colab_type": "code",
        "colab": {}
      },
      "source": [
        "def model(x):\n",
        "  return x @ w.t() + b"
      ],
      "execution_count": 0,
      "outputs": []
    },
    {
      "cell_type": "code",
      "metadata": {
        "id": "7-2N7QCTkgvL",
        "colab_type": "code",
        "colab": {
          "base_uri": "https://localhost:8080/",
          "height": 185
        },
        "outputId": "b1719393-93b3-4e7c-e710-df9de078543b"
      },
      "source": [
        "res = model(inp)\n",
        "print(res)\n",
        "print(out)"
      ],
      "execution_count": 20,
      "outputs": [
        {
          "output_type": "stream",
          "text": [
            "tensor([[ 208.0358, -115.6373],\n",
            "        [ 262.9308, -158.1180],\n",
            "        [ 348.7458, -212.0991],\n",
            "        [ 204.1444,  -79.1092],\n",
            "        [ 245.5804, -173.9818]], grad_fn=<AddBackward0>)\n",
            "tensor([[ 56.,  70.],\n",
            "        [ 81., 101.],\n",
            "        [119., 133.],\n",
            "        [ 22.,  37.],\n",
            "        [103., 119.]])\n"
          ],
          "name": "stdout"
        }
      ]
    },
    {
      "cell_type": "markdown",
      "metadata": {
        "id": "Mq_XWEeY3M7w",
        "colab_type": "text"
      },
      "source": [
        ""
      ]
    },
    {
      "cell_type": "markdown",
      "metadata": {
        "id": "gBxTWodDxWNa",
        "colab_type": "text"
      },
      "source": [
        "Loss Function: MSE"
      ]
    },
    {
      "cell_type": "code",
      "metadata": {
        "id": "zFnzvMT2xYkO",
        "colab_type": "code",
        "colab": {}
      },
      "source": [
        "def mse(x1, x2):\n",
        "  diff = (x1 - x2)**2\n",
        "  return torch.sum( diff ) / diff.numel()\n"
      ],
      "execution_count": 0,
      "outputs": []
    },
    {
      "cell_type": "code",
      "metadata": {
        "id": "Wzv3ch8pySGa",
        "colab_type": "code",
        "colab": {
          "base_uri": "https://localhost:8080/",
          "height": 34
        },
        "outputId": "5e291bb4-5435-4988-8a29-a31f96072182"
      },
      "source": [
        "loss = mse(res, out)\n",
        "print(loss)\n"
      ],
      "execution_count": 22,
      "outputs": [
        {
          "output_type": "stream",
          "text": [
            "tensor(48251.8945, grad_fn=<DivBackward0>)\n"
          ],
          "name": "stdout"
        }
      ]
    },
    {
      "cell_type": "code",
      "metadata": {
        "id": "vkbjw5H57i7t",
        "colab_type": "code",
        "colab": {}
      },
      "source": [
        "# loss.backward()\n",
        "# print(w)\n",
        "# print(w.grad)"
      ],
      "execution_count": 0,
      "outputs": []
    },
    {
      "cell_type": "code",
      "metadata": {
        "id": "CtSzmTkuyxY5",
        "colab_type": "code",
        "colab": {}
      },
      "source": [
        "# with torch.no_grad():\n",
        "#   alpha = (1e-5)\n",
        "#   print(type(alpha))\n",
        "#   print(w.dtype)\n",
        "#   print(w.grad)\n",
        "#   w = w - (alpha * w.grad)\n",
        "#   b = b - (alpha * b.grad)\n",
        "#   print(w.dtype)\n",
        "#   print(w)\n",
        "#   print(w.grad)\n",
        "#   # w.grad.zero_()\n",
        "#   # b.grad.zero_()\n"
      ],
      "execution_count": 0,
      "outputs": []
    },
    {
      "cell_type": "code",
      "metadata": {
        "id": "0N-xFdIG-0YE",
        "colab_type": "code",
        "colab": {}
      },
      "source": [
        ""
      ],
      "execution_count": 0,
      "outputs": []
    },
    {
      "cell_type": "code",
      "metadata": {
        "id": "iGS28SG57lQ9",
        "colab_type": "code",
        "colab": {
          "base_uri": "https://localhost:8080/",
          "height": 34
        },
        "outputId": "3f693974-e859-4afe-94be-970ed39c2174"
      },
      "source": [
        "res = model(inp)\n",
        "loss = mse(res, out)\n",
        "print(loss)"
      ],
      "execution_count": 25,
      "outputs": [
        {
          "output_type": "stream",
          "text": [
            "tensor(48251.8945, grad_fn=<DivBackward0>)\n"
          ],
          "name": "stdout"
        }
      ]
    },
    {
      "cell_type": "code",
      "metadata": {
        "id": "-z2_b263-1Op",
        "colab_type": "code",
        "colab": {}
      },
      "source": [
        "for i in range (2000):\n",
        "  res = model(inp)\n",
        "  loss = mse(res, out)\n",
        "  # print(loss)\n",
        "  loss.backward()\n",
        "  with torch.no_grad():\n",
        "    w -= w.grad * 1e-5\n",
        "    b -= b.grad * 1e-5\n",
        "    w.grad.zero_()\n",
        "    b.grad.zero_()\n"
      ],
      "execution_count": 0,
      "outputs": []
    },
    {
      "cell_type": "code",
      "metadata": {
        "id": "EB9ZDVfCBxjs",
        "colab_type": "code",
        "colab": {
          "base_uri": "https://localhost:8080/",
          "height": 185
        },
        "outputId": "25a3c199-6c8d-40c5-8839-afa01c20d70f"
      },
      "source": [
        "print(res)\n",
        "print(out)"
      ],
      "execution_count": 27,
      "outputs": [
        {
          "output_type": "stream",
          "text": [
            "tensor([[ 57.4586,  70.4727],\n",
            "        [ 80.2473,  99.7122],\n",
            "        [122.6793, 134.8751],\n",
            "        [ 22.1930,  37.5481],\n",
            "        [ 97.9390, 117.2233]], grad_fn=<AddBackward0>)\n",
            "tensor([[ 56.,  70.],\n",
            "        [ 81., 101.],\n",
            "        [119., 133.],\n",
            "        [ 22.,  37.],\n",
            "        [103., 119.]])\n"
          ],
          "name": "stdout"
        }
      ]
    },
    {
      "cell_type": "markdown",
      "metadata": {
        "id": "UM7xbJC3DGlo",
        "colab_type": "text"
      },
      "source": [
        "Linear Regression using PyTorch builtins "
      ]
    },
    {
      "cell_type": "code",
      "metadata": {
        "id": "jOl3EDjxDNPK",
        "colab_type": "code",
        "colab": {}
      },
      "source": [
        "import torch.nn as nn\n",
        "from torch.utils.data import TensorDataset\n",
        "from torch.utils.data import DataLoader"
      ],
      "execution_count": 0,
      "outputs": []
    },
    {
      "cell_type": "code",
      "metadata": {
        "id": "KJ2Cn6G0J-SA",
        "colab_type": "code",
        "colab": {}
      },
      "source": [
        "inputs = np.array([ [ 73.,  67.,  43.], [ 91.,  88.,  64.], [ 87., 134.,  58.], [102.,  43.,  37.], [ 69.,  96.,  70.], [ 73.,  67.,  43.], [ 91.,  88.,  64.], [ 87., 134.,  58.],\n",
        "        [102.,  43.,  37.], [ 69.,  96.,  70.], [ 73.,  67.,  43.], [ 91.,  88.,  64.], [ 87., 134.,  58.], [102.,  43.,  37.], [ 69.,  96.,  70.] ], dtype = 'float32')\n",
        "targets = np.array([\n",
        " [ 56.,  70.],\n",
        " [ 81., 101.],\n",
        " [119., 133.], \n",
        " [ 22.,  37.],\n",
        " [103., 119.],\n",
        " [ 56.,  70.],\n",
        " [ 81., 101.],\n",
        " [119., 133.],\n",
        " [ 22.,  37.],\n",
        " [103., 119.],\n",
        " [ 56., 70.],\n",
        " [ 81., 101.],\n",
        " [119., 133.],\n",
        " [ 22.,  37.],\n",
        " [103., 119.] ], dtype = 'float32')"
      ],
      "execution_count": 0,
      "outputs": []
    },
    {
      "cell_type": "code",
      "metadata": {
        "id": "D0ob2tHsMILc",
        "colab_type": "code",
        "colab": {}
      },
      "source": [
        "inputs = torch.from_numpy(inputs)\n",
        "targets = torch.from_numpy(targets)\n",
        "train_ds = TensorDataset(inputs, targets)\n",
        "batch_size = 5\n",
        "train_dl = DataLoader(train_ds, batch_size, shuffle = True)\n"
      ],
      "execution_count": 0,
      "outputs": []
    },
    {
      "cell_type": "code",
      "metadata": {
        "id": "BAnXhPs2NuZ7",
        "colab_type": "code",
        "colab": {}
      },
      "source": [
        "# for xa, xb in train_dl:\n",
        "#   print('batch')\n",
        "#   print(xa)\n",
        "#   print(xb)"
      ],
      "execution_count": 0,
      "outputs": []
    },
    {
      "cell_type": "code",
      "metadata": {
        "id": "qzVuNJgFOxyK",
        "colab_type": "code",
        "colab": {
          "base_uri": "https://localhost:8080/",
          "height": 118
        },
        "outputId": "62af1871-b51c-450b-b166-c15d0152cd70"
      },
      "source": [
        "#Define model\n",
        "model = nn.Linear(3,2)\n",
        "print(model)\n",
        "print(model.weight)\n",
        "print(model.bias)"
      ],
      "execution_count": 49,
      "outputs": [
        {
          "output_type": "stream",
          "text": [
            "Linear(in_features=3, out_features=2, bias=True)\n",
            "Parameter containing:\n",
            "tensor([[-0.3463,  0.1925, -0.1725],\n",
            "        [ 0.2237, -0.1977, -0.1666]], requires_grad=True)\n",
            "Parameter containing:\n",
            "tensor([ 0.2790, -0.0786], requires_grad=True)\n"
          ],
          "name": "stdout"
        }
      ]
    },
    {
      "cell_type": "code",
      "metadata": {
        "id": "IgrWCKdBQI-l",
        "colab_type": "code",
        "colab": {
          "base_uri": "https://localhost:8080/",
          "height": 101
        },
        "outputId": "6c9ba00f-3beb-473d-a302-537ed589e3e3"
      },
      "source": [
        "list( model.parameters() )"
      ],
      "execution_count": 53,
      "outputs": [
        {
          "output_type": "execute_result",
          "data": {
            "text/plain": [
              "[Parameter containing:\n",
              " tensor([[-0.3463,  0.1925, -0.1725],\n",
              "         [ 0.2237, -0.1977, -0.1666]], requires_grad=True),\n",
              " Parameter containing:\n",
              " tensor([ 0.2790, -0.0786], requires_grad=True)]"
            ]
          },
          "metadata": {
            "tags": []
          },
          "execution_count": 53
        }
      ]
    },
    {
      "cell_type": "code",
      "metadata": {
        "id": "YqyCTqLDQbTu",
        "colab_type": "code",
        "colab": {
          "base_uri": "https://localhost:8080/",
          "height": 269
        },
        "outputId": "87bd97ae-1154-48a0-ffe9-0a14a54daf98"
      },
      "source": [
        "pred = model(inputs)\n",
        "# print(pred)"
      ],
      "execution_count": 54,
      "outputs": [
        {
          "output_type": "stream",
          "text": [
            "tensor([[-19.5200,  -4.1653],\n",
            "        [-25.3329,  -7.7911],\n",
            "        [-14.0559, -16.7825],\n",
            "        [-33.1497,   8.0666],\n",
            "        [-17.2081, -15.2934],\n",
            "        [-19.5200,  -4.1653],\n",
            "        [-25.3329,  -7.7911],\n",
            "        [-14.0559, -16.7825],\n",
            "        [-33.1497,   8.0666],\n",
            "        [-17.2081, -15.2934],\n",
            "        [-19.5200,  -4.1653],\n",
            "        [-25.3329,  -7.7911],\n",
            "        [-14.0559, -16.7825],\n",
            "        [-33.1497,   8.0666],\n",
            "        [-17.2081, -15.2934]], grad_fn=<AddmmBackward>)\n"
          ],
          "name": "stdout"
        }
      ]
    },
    {
      "cell_type": "markdown",
      "metadata": {
        "id": "ZbvErbSlQtbb",
        "colab_type": "text"
      },
      "source": [
        "Loss function"
      ]
    },
    {
      "cell_type": "code",
      "metadata": {
        "id": "R3RbO6_DQvXt",
        "colab_type": "code",
        "colab": {}
      },
      "source": [
        "import torch.nn.functional as F"
      ],
      "execution_count": 0,
      "outputs": []
    },
    {
      "cell_type": "code",
      "metadata": {
        "id": "4unjx8CrQ1uP",
        "colab_type": "code",
        "colab": {}
      },
      "source": [
        "loss_fn = F.mse_loss"
      ],
      "execution_count": 0,
      "outputs": []
    },
    {
      "cell_type": "code",
      "metadata": {
        "id": "DCAfY-wQRJWO",
        "colab_type": "code",
        "colab": {
          "base_uri": "https://localhost:8080/",
          "height": 34
        },
        "outputId": "e01be06b-e900-41ed-e3b5-2c942bfaeee5"
      },
      "source": [
        "loss = loss_fn(model(inputs), targets )\n",
        "print(loss)"
      ],
      "execution_count": 63,
      "outputs": [
        {
          "output_type": "stream",
          "text": [
            "tensor(11084.8018, grad_fn=<MseLossBackward>)\n"
          ],
          "name": "stdout"
        }
      ]
    },
    {
      "cell_type": "code",
      "metadata": {
        "id": "HLdNHzbCRm-q",
        "colab_type": "code",
        "colab": {}
      },
      "source": [
        "opt = torch.optim.SGD(model.parameters() ,lr = 1e-5)"
      ],
      "execution_count": 0,
      "outputs": []
    },
    {
      "cell_type": "code",
      "metadata": {
        "id": "e5LLabywSLW6",
        "colab_type": "code",
        "colab": {}
      },
      "source": [
        "def fit(num_epochs, model,loss_fn, opt, train_dl):\n",
        "  for i in  range(num_epochs):\n",
        "    for xa, xb in train_dl:\n",
        "      out = model(xa)\n",
        "      loss = loss_fn(out, xb)\n",
        "      loss.backward()\n",
        "      opt.step()\n",
        "      opt.zero_grad()\n",
        "    if( (i+1) % 10 == 0):\n",
        "      print('Epoch [{}/{}], Loss: {:.4f}'.format(i+1, num_epochs, loss) ) \n",
        "     \n",
        "\n"
      ],
      "execution_count": 0,
      "outputs": []
    },
    {
      "cell_type": "code",
      "metadata": {
        "id": "33sEJHdMU6_U",
        "colab_type": "code",
        "colab": {
          "base_uri": "https://localhost:8080/",
          "height": 185
        },
        "outputId": "40ffee93-e312-4a7f-ea42-0a17438627ae"
      },
      "source": [
        "fit(100, model, loss_fn, opt, train_dl)"
      ],
      "execution_count": 72,
      "outputs": [
        {
          "output_type": "stream",
          "text": [
            "Epoch [10/100], Loss: 16.6223\n",
            "Epoch [20/100], Loss: 12.0375\n",
            "Epoch [30/100], Loss: 10.9390\n",
            "Epoch [40/100], Loss: 8.7077\n",
            "Epoch [50/100], Loss: 7.2244\n",
            "Epoch [60/100], Loss: 5.9401\n",
            "Epoch [70/100], Loss: 6.6068\n",
            "Epoch [80/100], Loss: 6.2853\n",
            "Epoch [90/100], Loss: 8.2662\n",
            "Epoch [100/100], Loss: 7.8185\n"
          ],
          "name": "stdout"
        }
      ]
    },
    {
      "cell_type": "code",
      "metadata": {
        "id": "AhsfkAi3Vdxd",
        "colab_type": "code",
        "colab": {
          "base_uri": "https://localhost:8080/",
          "height": 521
        },
        "outputId": "d9e455e4-0151-40d7-b39c-e3c6d5829427"
      },
      "source": [
        "preds = model(inputs)\n",
        "print(preds)\n",
        "print(targets)"
      ],
      "execution_count": 73,
      "outputs": [
        {
          "output_type": "stream",
          "text": [
            "tensor([[ 57.3872,  70.5090],\n",
            "        [ 80.5205,  98.4526],\n",
            "        [121.9677, 137.2293],\n",
            "        [ 22.0753,  38.3738],\n",
            "        [ 98.4771, 114.5046],\n",
            "        [ 57.3872,  70.5090],\n",
            "        [ 80.5205,  98.4526],\n",
            "        [121.9677, 137.2293],\n",
            "        [ 22.0753,  38.3738],\n",
            "        [ 98.4771, 114.5046],\n",
            "        [ 57.3872,  70.5090],\n",
            "        [ 80.5205,  98.4526],\n",
            "        [121.9677, 137.2293],\n",
            "        [ 22.0753,  38.3738],\n",
            "        [ 98.4771, 114.5046]], grad_fn=<AddmmBackward>)\n",
            "tensor([[ 56.,  70.],\n",
            "        [ 81., 101.],\n",
            "        [119., 133.],\n",
            "        [ 22.,  37.],\n",
            "        [103., 119.],\n",
            "        [ 56.,  70.],\n",
            "        [ 81., 101.],\n",
            "        [119., 133.],\n",
            "        [ 22.,  37.],\n",
            "        [103., 119.],\n",
            "        [ 56.,  70.],\n",
            "        [ 81., 101.],\n",
            "        [119., 133.],\n",
            "        [ 22.,  37.],\n",
            "        [103., 119.]])\n"
          ],
          "name": "stdout"
        }
      ]
    }
  ]
}