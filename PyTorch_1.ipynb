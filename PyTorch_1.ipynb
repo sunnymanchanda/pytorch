{
  "nbformat": 4,
  "nbformat_minor": 0,
  "metadata": {
    "colab": {
      "name": "PyTorch_1.ipynb",
      "provenance": [],
      "authorship_tag": "ABX9TyOAKAM10TQccW5nDuhLC5CO",
      "include_colab_link": true
    },
    "kernelspec": {
      "name": "python3",
      "display_name": "Python 3"
    }
  },
  "cells": [
    {
      "cell_type": "markdown",
      "metadata": {
        "id": "view-in-github",
        "colab_type": "text"
      },
      "source": [
        "<a href=\"https://colab.research.google.com/github/sunnymanchanda/pytorch/blob/master/PyTorch_1.ipynb\" target=\"_parent\"><img src=\"https://colab.research.google.com/assets/colab-badge.svg\" alt=\"Open In Colab\"/></a>"
      ]
    },
    {
      "cell_type": "code",
      "metadata": {
        "id": "2K_hHmSOAhEG",
        "colab_type": "code",
        "colab": {}
      },
      "source": [
        "### Creating Tensors"
      ],
      "execution_count": 0,
      "outputs": []
    },
    {
      "cell_type": "code",
      "metadata": {
        "id": "r7T36mLBAn-U",
        "colab_type": "code",
        "colab": {}
      },
      "source": [
        "import torch"
      ],
      "execution_count": 0,
      "outputs": []
    },
    {
      "cell_type": "code",
      "metadata": {
        "id": "gl6SICnGAt8k",
        "colab_type": "code",
        "colab": {}
      },
      "source": [
        "t1 = torch.tensor(4.)"
      ],
      "execution_count": 0,
      "outputs": []
    },
    {
      "cell_type": "code",
      "metadata": {
        "id": "Aic7AQIsA2Vg",
        "colab_type": "code",
        "colab": {
          "base_uri": "https://localhost:8080/",
          "height": 34
        },
        "outputId": "45d79c54-9858-4df1-a2bb-513d61e75e8a"
      },
      "source": [
        "t1.dtype"
      ],
      "execution_count": 5,
      "outputs": [
        {
          "output_type": "execute_result",
          "data": {
            "text/plain": [
              "torch.float32"
            ]
          },
          "metadata": {
            "tags": []
          },
          "execution_count": 5
        }
      ]
    },
    {
      "cell_type": "code",
      "metadata": {
        "id": "1nFqGkJ3A8Qj",
        "colab_type": "code",
        "colab": {
          "base_uri": "https://localhost:8080/",
          "height": 50
        },
        "outputId": "aa107e9f-1c21-454e-d9f7-f4f063811d3a"
      },
      "source": [
        "t2 = torch.tensor( [4., 5, 6] )\n",
        "print(t2.dtype)\n",
        "print(t2.shape)"
      ],
      "execution_count": 6,
      "outputs": [
        {
          "output_type": "stream",
          "text": [
            "torch.float32\n",
            "torch.Size([3])\n"
          ],
          "name": "stdout"
        }
      ]
    },
    {
      "cell_type": "code",
      "metadata": {
        "id": "-ul6czuzBHrq",
        "colab_type": "code",
        "colab": {
          "base_uri": "https://localhost:8080/",
          "height": 118
        },
        "outputId": "7df54740-8ad5-4cec-bafa-19265e4c445e"
      },
      "source": [
        "t3 = torch.tensor( [ [4., 5, 6], [7, 8, 9], [10, 11, 12], [13, 14, 15] ] )\n",
        "print(t3.dtype)\n",
        "print(t3.shape)\n",
        "print(t3)"
      ],
      "execution_count": 7,
      "outputs": [
        {
          "output_type": "stream",
          "text": [
            "torch.float32\n",
            "torch.Size([4, 3])\n",
            "tensor([[ 4.,  5.,  6.],\n",
            "        [ 7.,  8.,  9.],\n",
            "        [10., 11., 12.],\n",
            "        [13., 14., 15.]])\n"
          ],
          "name": "stdout"
        }
      ]
    },
    {
      "cell_type": "code",
      "metadata": {
        "id": "XKiEEIxYBiww",
        "colab_type": "code",
        "colab": {
          "base_uri": "https://localhost:8080/",
          "height": 202
        },
        "outputId": "84a1b91f-a7a4-4131-fa8c-84589cb2e813"
      },
      "source": [
        "t4 = torch.tensor( [ [ [1., 2, 3], [4, 5, 6], [7, 8, 9], [10, 11, 12] ], [ [1., 2, 3], [4, 5, 6], [7, 8, 9], [10, 11, 12] ]  ] )\n",
        "print(t4)\n",
        "print(t4.dtype)\n",
        "print(t4.shape)"
      ],
      "execution_count": 8,
      "outputs": [
        {
          "output_type": "stream",
          "text": [
            "tensor([[[ 1.,  2.,  3.],\n",
            "         [ 4.,  5.,  6.],\n",
            "         [ 7.,  8.,  9.],\n",
            "         [10., 11., 12.]],\n",
            "\n",
            "        [[ 1.,  2.,  3.],\n",
            "         [ 4.,  5.,  6.],\n",
            "         [ 7.,  8.,  9.],\n",
            "         [10., 11., 12.]]])\n",
            "torch.float32\n",
            "torch.Size([2, 4, 3])\n"
          ],
          "name": "stdout"
        }
      ]
    },
    {
      "cell_type": "code",
      "metadata": {
        "id": "69_Qly0bBjYB",
        "colab_type": "code",
        "colab": {}
      },
      "source": [
        "x = torch.tensor(3.)\n",
        "w = torch.tensor(4., requires_grad = True)\n",
        "b = torch.tensor(5., requires_grad = True)\n"
      ],
      "execution_count": 0,
      "outputs": []
    },
    {
      "cell_type": "code",
      "metadata": {
        "id": "PvqjOPhgBjs1",
        "colab_type": "code",
        "colab": {
          "base_uri": "https://localhost:8080/",
          "height": 34
        },
        "outputId": "46cb8478-4f64-48b2-cc97-98e5355414df"
      },
      "source": [
        "y = w*x + b\n",
        "print(y)"
      ],
      "execution_count": 10,
      "outputs": [
        {
          "output_type": "stream",
          "text": [
            "tensor(17., grad_fn=<AddBackward0>)\n"
          ],
          "name": "stdout"
        }
      ]
    },
    {
      "cell_type": "code",
      "metadata": {
        "id": "M1YoRezIBj6v",
        "colab_type": "code",
        "colab": {
          "base_uri": "https://localhost:8080/",
          "height": 118
        },
        "outputId": "89c9316f-b316-4d62-b083-4dc3478aff81"
      },
      "source": [
        "print('dy/dx', x.grad)\n",
        "print('dy/dw', w.grad)\n",
        "print('dy/db', b.grad)\n",
        "y.backward()\n",
        "print('dy/dx', x.grad)\n",
        "print('dy/dw', w.grad)\n",
        "print('dy/db', b.grad)\n"
      ],
      "execution_count": 11,
      "outputs": [
        {
          "output_type": "stream",
          "text": [
            "dy/dx None\n",
            "dy/dw None\n",
            "dy/db None\n",
            "dy/dx None\n",
            "dy/dw tensor(3.)\n",
            "dy/db tensor(1.)\n"
          ],
          "name": "stdout"
        }
      ]
    },
    {
      "cell_type": "code",
      "metadata": {
        "id": "2gQd9uzVBkRd",
        "colab_type": "code",
        "colab": {
          "base_uri": "https://localhost:8080/",
          "height": 84
        },
        "outputId": "381f118c-7e43-48b0-f702-0b56759664a4"
      },
      "source": [
        "import numpy as np\n",
        "z = np.array([ [1., 2, 3], [4, 5,6] ])\n",
        "print(z)\n",
        "print(z.dtype)\n",
        "print(z.shape)"
      ],
      "execution_count": 12,
      "outputs": [
        {
          "output_type": "stream",
          "text": [
            "[[1. 2. 3.]\n",
            " [4. 5. 6.]]\n",
            "float64\n",
            "(2, 3)\n"
          ],
          "name": "stdout"
        }
      ]
    },
    {
      "cell_type": "code",
      "metadata": {
        "id": "SM7RwRmkBkcm",
        "colab_type": "code",
        "colab": {
          "base_uri": "https://localhost:8080/",
          "height": 84
        },
        "outputId": "6cbff964-5cf7-4d68-9b90-ea169ff69068"
      },
      "source": [
        "p = torch.from_numpy(z)\n",
        "print(p)\n",
        "print(p.dtype)\n",
        "print(p.shape)"
      ],
      "execution_count": 13,
      "outputs": [
        {
          "output_type": "stream",
          "text": [
            "tensor([[1., 2., 3.],\n",
            "        [4., 5., 6.]], dtype=torch.float64)\n",
            "torch.float64\n",
            "torch.Size([2, 3])\n"
          ],
          "name": "stdout"
        }
      ]
    },
    {
      "cell_type": "code",
      "metadata": {
        "id": "1GsvHmW4BklM",
        "colab_type": "code",
        "colab": {
          "base_uri": "https://localhost:8080/",
          "height": 50
        },
        "outputId": "44ee7cf7-a215-4999-bd58-2bcce25103ce"
      },
      "source": [
        "r = p.numpy()\n",
        "print(r, r.dtype, r.shape)"
      ],
      "execution_count": 14,
      "outputs": [
        {
          "output_type": "stream",
          "text": [
            "[[1. 2. 3.]\n",
            " [4. 5. 6.]] float64 (2, 3)\n"
          ],
          "name": "stdout"
        }
      ]
    },
    {
      "cell_type": "code",
      "metadata": {
        "id": "TBApRgalBktE",
        "colab_type": "code",
        "colab": {}
      },
      "source": [
        "!pip install jovian --upgrade --quiet"
      ],
      "execution_count": 0,
      "outputs": []
    },
    {
      "cell_type": "code",
      "metadata": {
        "id": "Yl0gz8OKGL-O",
        "colab_type": "code",
        "colab": {}
      },
      "source": [
        "\n"
      ],
      "execution_count": 0,
      "outputs": []
    },
    {
      "cell_type": "code",
      "metadata": {
        "id": "h2tVD8-BGjTL",
        "colab_type": "code",
        "colab": {
          "base_uri": "https://localhost:8080/",
          "height": 34
        },
        "outputId": "420b5e8b-5d48-481a-a619-d6f1f606e8dd"
      },
      "source": [
        ""
      ],
      "execution_count": 22,
      "outputs": [
        {
          "output_type": "stream",
          "text": [
            "\u001b[31m[jovian] Error: Failed to detect Jupyter notebook or Python script. Skipping..\u001b[0m\n"
          ],
          "name": "stderr"
        }
      ]
    }
  ]
}